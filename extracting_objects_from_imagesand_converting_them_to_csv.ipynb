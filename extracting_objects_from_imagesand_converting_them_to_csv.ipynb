{
  "nbformat": 4,
  "nbformat_minor": 0,
  "metadata": {
    "colab": {
      "name": "extracting objects from imagesand converting them to csv.ipynb",
      "provenance": [],
      "collapsed_sections": []
    },
    "kernelspec": {
      "name": "python3",
      "display_name": "Python 3"
    }
  },
  "cells": [
    {
      "cell_type": "code",
      "metadata": {
        "colab": {
          "base_uri": "https://localhost:8080/"
        },
        "id": "tBp2qcCk5VyA",
        "outputId": "83a193e5-cc7b-4290-8256-c13e6429fc6a"
      },
      "source": [
        "%cd /content/drive/MyDrive"
      ],
      "execution_count": null,
      "outputs": [
        {
          "output_type": "stream",
          "text": [
            "/content/drive/MyDrive\n"
          ],
          "name": "stdout"
        }
      ]
    },
    {
      "cell_type": "code",
      "metadata": {
        "colab": {
          "base_uri": "https://localhost:8080/"
        },
        "id": "HIe8bYBX7P0I",
        "outputId": "ce367342-8b61-45c0-f967-c89e574b3585"
      },
      "source": [
        "!pip install xmltodict"
      ],
      "execution_count": null,
      "outputs": [
        {
          "output_type": "stream",
          "text": [
            "Requirement already satisfied: xmltodict in /usr/local/lib/python3.6/dist-packages (0.12.0)\n"
          ],
          "name": "stdout"
        }
      ]
    },
    {
      "cell_type": "code",
      "metadata": {
        "colab": {
          "base_uri": "https://localhost:8080/"
        },
        "id": "hak-X-7h_0iz",
        "outputId": "d542153b-d214-4390-b011-e80d96b87149"
      },
      "source": [
        "!ls"
      ],
      "execution_count": null,
      "outputs": [
        {
          "output_type": "stream",
          "text": [
            " 1.jpg\t\t\t\t   folder\n",
            " augmentation_configuration.json   images\n",
            " cars_dataset\t\t\t   impy-0.1-py3-none-any.whl\n",
            "'Colab Notebooks'\t\t   impy-0.1-py3-none-any.whl.1\n",
            " corped_images.ipynb\t\t   impy-0.1-py3-none-any.whl.2\n",
            " data\t\t\t\t   yolov5\n"
          ],
          "name": "stdout"
        }
      ]
    },
    {
      "cell_type": "code",
      "metadata": {
        "id": "QAH91WQy7H1z"
      },
      "source": [
        "import glob\n",
        "import os\n",
        "import xmltodict\n",
        "import json\n",
        "import pprint\n",
        "\n",
        "from PIL import Image\n",
        "import numpy as np\n",
        "import sys\n",
        "\n",
        "import csv"
      ],
      "execution_count": null,
      "outputs": []
    },
    {
      "cell_type": "code",
      "metadata": {
        "id": "txGqBcZXBOqA"
      },
      "source": [
        "# default format can be changed as needed\n",
        "def createFileList(myDir, format='.jpg'):\n",
        "    fileList = []\n",
        "    print(myDir)\n",
        "    for root, dirs, files in os.walk(myDir, topdown=False):\n",
        "        for name in files:\n",
        "            if name.endswith(format):\n",
        "                fullName = os.path.join(root, name)\n",
        "                fileList.append(fullName)\n",
        "    return fileList\n"
      ],
      "execution_count": null,
      "outputs": []
    },
    {
      "cell_type": "code",
      "metadata": {
        "id": "aQ8k-fqZ7NpC"
      },
      "source": [
        "# Printing results\n",
        "pp = pprint.PrettyPrinter(indent=4)"
      ],
      "execution_count": null,
      "outputs": []
    },
    {
      "cell_type": "code",
      "metadata": {
        "id": "9kTTjKWj7Zqq"
      },
      "source": [
        "# Look for XML files and parses then as if they were Pascal VOC Files\n",
        "def process():\n",
        "    # Finds all XML files on data/ and append to list\n",
        "    pascal_voc_contents = []\n",
        "    os.chdir(\"data\")\n",
        "\n",
        "    print(\"Found {} files in data directory!\".format(\n",
        "        str(len(glob.glob(\"*.xml\")))))\n",
        "    for file in glob.glob(\"*.xml\"):\n",
        "        f_handle = open(file, 'r')\n",
        "        print(\"Parsing file '{}'...\".format(file))\n",
        "        pascal_voc_contents.append(xmltodict.parse(f_handle.read()))\n",
        "\n",
        "    # Process each file individually\n",
        "    for index in pascal_voc_contents:\n",
        "        image_file = index['annotation']['filename']\n",
        "        # If there's a corresponding file in the folder,\n",
        "        # process the images and save to output folder\n",
        "        if os.path.isfile(image_file):\n",
        "            extractDataset(index['annotation'])\n",
        "        else:\n",
        "            print(\"Image file '{}' not found, skipping file...\".format(image_file))\n"
      ],
      "execution_count": null,
      "outputs": []
    },
    {
      "cell_type": "code",
      "metadata": {
        "id": "5pdHXkty7d6h"
      },
      "source": [
        "# Extract image samples and save to output dir\n",
        "def extractDataset(dataset):\n",
        "    print(\"Found {} objects on image '{}'...\".format(\n",
        "        len(dataset['object']), dataset['filename']))\n",
        "\n",
        "    # Open image and get ready to process\n",
        "    img = Image.open(dataset['filename'])\n",
        "\n",
        "    # Create output directory\n",
        "    save_dir = dataset['filename'].split('.')[0]\n",
        "    try:\n",
        "        os.mkdir(save_dir)\n",
        "    except:\n",
        "        pass\n",
        "    # Image name preamble\n",
        "    sample_preamble = save_dir + \"/\" + dataset['filename'].split('.')[0] + \"_\"\n",
        "    # Image counter\n",
        "    i = 0\n",
        "\n",
        "    # Run through each item and save cut image to output folder\n",
        "    for item in dataset['object']:\n",
        "        # Convert str to integers\n",
        "        bndbox = dict([(a, int(b)) for (a, b) in item['bndbox'].items()])\n",
        "        # Crop image\n",
        "        img_file = img.crop((bndbox['xmin'], bndbox['ymin'],\n",
        "                       bndbox['xmax'], bndbox['ymax']))\n",
        "        # Save\n",
        "        img_file.save(sample_preamble + str(i) + '.jpg')\n",
        "\n",
        "        #saving as csv form\n",
        "        width, height = img_file.size\n",
        "        format = img_file.format\n",
        "        mode = img_file.mode\n",
        "\n",
        "        img_grey = img_file.convert('L')\n",
        "        value = np.asarray(img_grey.getdata(), dtype=np.int).reshape((img_grey.size[1], img_grey.size[0]))\n",
        "        value = value.flatten()\n",
        "        print(value)\n",
        "        with open(\"/content/drive/MyDrive/data/csv/images.csv\", 'a') as f:\n",
        "          writer = csv.writer(f)\n",
        "          writer.writerow(value)\n",
        "        i = i + 1\n"
      ],
      "execution_count": null,
      "outputs": []
    },
    {
      "cell_type": "code",
      "metadata": {
        "colab": {
          "base_uri": "https://localhost:8080/"
        },
        "id": "Eu1LhGq577Mj",
        "outputId": "27c65507-be30-45d0-c024-0ef776ae4c73"
      },
      "source": [
        "if __name__ == '__main__':\n",
        "  process()"
      ],
      "execution_count": null,
      "outputs": [
        {
          "output_type": "stream",
          "text": [
            "Found 5 files in data directory!\n",
            "Parsing file 'cars0.xml'...\n",
            "Parsing file 'cars1.xml'...\n",
            "Parsing file 'cars2.xml'...\n",
            "Parsing file 'cars3.xml'...\n",
            "Parsing file 'cars4.xml'...\n",
            "Found 16 objects on image 'cars0.png'...\n",
            "[88 95 97 ... 15 15 15]\n",
            "[254 254 254 ... 136 135 135]\n",
            "[23 24 19 ... 67 67 67]\n",
            "[20 20 23 ... 63 63 63]\n",
            "[ 5  4  4 ... 67 66 66]\n",
            "[25 25 25 ... 78 78 78]\n",
            "[74 74 73 ... 79 77 77]\n",
            "[69 52 41 ... 46 46 46]\n",
            "[ 5  5  5 ... 76 75 75]\n",
            "[ 33  32  30 ... 161 163 163]\n",
            "[ 65  68  71 ... 113 113 113]\n",
            "[31 24 17 ... 64 65 67]\n",
            "[34 34 34 ... 19 19 19]\n",
            "[19 18 18 ... 67 67 67]\n",
            "[23 22 22 ... 86 87 86]\n",
            "[27 29 30 ... 25 23 22]\n",
            "Found 15 objects on image 'cars1.png'...\n",
            "[189 188 188 ... 128 127 125]\n",
            "[217 217 218 ... 190 189 187]\n",
            "[127 127 126 ... 182 185 188]\n",
            "[196 197 196 ... 173 171 160]\n",
            "[ 73  77  81 ... 196 195 196]\n",
            "[41 42 42 ... 93 95 98]\n",
            "[ 40  40  38 ... 204 204 204]\n",
            "[195 195 195 ... 178 178 179]\n",
            "[145 146 146 ... 170 170 170]\n",
            "[213 213 213 ... 189 183 173]\n",
            "[ 47  47  46 ... 217 217 217]\n",
            "[107  81  59 ... 102 100  98]\n",
            "[101  88  76 ...  50  46  41]\n",
            "[119 122 124 ... 107 107 105]\n",
            "[63 63 63 ... 90 92 92]\n",
            "Found 26 objects on image 'cars2.jpg'...\n",
            "[ 75  57  52 ... 162 163 164]\n",
            "[127 131 122 ... 148 149 150]\n",
            "[152 152 152 ...  91 102 112]\n",
            "[164 164 164 ... 181 182 182]\n",
            "[199 199 200 ... 162 168 163]\n",
            "[200 200 200 ... 154 154 157]\n",
            "[252 251 251 ... 160 160 160]\n",
            "[200 200 200 ...  51  51  51]\n",
            "[200 200 200 ... 159 157 156]\n",
            "[ 87  87  86 ... 146 145 145]\n",
            "[89 89 86 ... 70 71 73]\n",
            "[97 97 94 ... 11 10  9]\n",
            "[254 254 254 ...  30  31  32]\n",
            "[138 126 126 ...  78  79  80]\n",
            "[113 131 144 ...  87  84  85]\n",
            "[ 72  65  64 ... 139 111 101]\n",
            "[41 38 37 ... 60 55 52]\n",
            "[214 215 215 ... 231 233 235]\n",
            "[138 139 139 ... 145 203 234]\n",
            "[146 150 155 ...  81  84  90]\n",
            "[ 67  62  58 ... 136 139 139]\n",
            "[125 101  90 ... 127 125 124]\n",
            "[146 148 134 ...  50  50  51]\n",
            "[ 80  81  89 ... 137 137 138]\n",
            "[72 73 73 ... 41 44 49]\n",
            "[ 52  53  57 ... 192 193 163]\n",
            "Found 53 objects on image 'cars3.jpg'...\n",
            "[210 210 208 ... 211 212 211]\n",
            "[208 211 217 ... 210 209 208]\n",
            "[183 178 175 ... 218 218 221]\n",
            "[212 213 214 ... 228 228 229]\n",
            "[216 216 216 ... 213 213 214]\n",
            "[173 142 142 ... 212 210 212]\n",
            "[ 19  24  46 ... 220 221 222]\n",
            "[233 234 236 ... 232 230 231]\n",
            "[205 200 200 ... 212 213 212]\n",
            "[243 243 244 ... 209 211 211]\n",
            "[206  82 177 ... 214 214 214]\n",
            "[208 209 208 ... 214 214 214]\n",
            "[207 208 208 ... 170 170 166]\n",
            "[208 209 209 ... 212 211 214]\n",
            "[207 206 208 ... 206 206 202]\n",
            "[221 222 222 ... 209 209 209]\n",
            "[207 207 206 ... 230 230 229]\n",
            "[ 65  87  80 ... 128 160 183]\n",
            "[210 212 211 ... 138 139 140]\n",
            "[213 214 215 ... 172 171 172]\n",
            "[220 220 218 ... 207 199 193]\n",
            "[199 199 200 ... 223 218 226]\n",
            "[204 205 206 ... 199 202 207]\n",
            "[200 201 201 ... 207 207 207]\n",
            "[221 221 220 ... 187 186 187]\n",
            "[175 176 147 ... 198 200 203]\n",
            "[212 212 214 ... 116 135 147]\n",
            "[ 56  33  34 ... 200 200 200]\n",
            "[211 208 210 ... 196 195 195]\n",
            "[ 75 112 152 ... 210 211 212]\n",
            "[221 203 214 ... 209 211 209]\n",
            "[207 205 205 ... 212 210 220]\n",
            "[131 108  87 ... 227 228 225]\n",
            "[ 10   6   5 ... 254 254 254]\n",
            "[153 146 119 ... 219 219 217]\n",
            "[157 159 155 ... 209 211 210]\n",
            "[163 161 159 ... 208 208 209]\n",
            "[208 207 207 ... 208 207 206]\n",
            "[216 211 213 ... 204 205 201]\n",
            "[181 196 228 ... 211 210 209]\n",
            "[206 198 196 ... 203 204 206]\n",
            "[202 201 200 ... 106 118 192]\n",
            "[ 87  86  80 ... 185 185 185]\n",
            "[165 186 199 ... 239 241 243]\n",
            "[ 85 103 121 ... 220 221 221]\n",
            "[196 199 203 ... 224 222 223]\n",
            "[233 233 235 ... 204 203 203]\n",
            "[224 228 229 ... 184 191 197]\n",
            "[100  97  99 ... 175 185 189]\n",
            "[183 179 178 ... 215 215 215]\n",
            "[ 80  79  75 ... 204 207 202]\n",
            "[230 231 231 ... 238 238 238]\n",
            "[201 202 201 ... 210 210 209]\n",
            "Image file 'pedestrians.png' not found, skipping file...\n"
          ],
          "name": "stdout"
        }
      ]
    },
    {
      "cell_type": "code",
      "metadata": {
        "id": "s_SbfvTt8BfJ"
      },
      "source": [
        "import pandas as pd\n",
        "import numpy as np"
      ],
      "execution_count": null,
      "outputs": []
    },
    {
      "cell_type": "code",
      "metadata": {
        "id": "a76kv-jWEp6q"
      },
      "source": [
        "df = pd.read_csv(\"/content/drive/MyDrive/data/csv/images.csv\")\n",
        "print(df.shape)\n",
        "#df.head()"
      ],
      "execution_count": null,
      "outputs": []
    },
    {
      "cell_type": "code",
      "metadata": {
        "id": "BX_hcXaZEzYX"
      },
      "source": [
        ""
      ],
      "execution_count": null,
      "outputs": []
    }
  ]
}